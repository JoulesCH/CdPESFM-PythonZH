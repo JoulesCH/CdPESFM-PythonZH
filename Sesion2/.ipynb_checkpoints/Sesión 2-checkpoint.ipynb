{
 "cells": [
  {
   "cell_type": "markdown",
   "metadata": {},
   "source": [
    "\n",
    "<img src=\"https://fotos.subefotos.com/62f2c206a343c5fead3e5e8eb7d6e91co.png\" style = \"width: 150px; height: auto; margin-left:auto;margin-right:auto\"/>\n",
    "<img src=\"https://fotos.subefotos.com/2c708169e1d6eb3099d2ce45584dc443o.png\" style = \"width: 750px; height: auto; margin-left: auto; margin-right: auto;margin-top:0 \"/>\n"
   ]
  },
  {
   "cell_type": "markdown",
   "metadata": {},
   "source": [
    "## Sesión 2"
   ]
  },
  {
   "cell_type": "markdown",
   "metadata": {},
   "source": [
    "# Lenguajes de programación\n",
    "___"
   ]
  },
  {
   "cell_type": "markdown",
   "metadata": {},
   "source": [
    "Los lenguajes de programación se pueden categorizar como:\n",
    "    - De alto y bajo nivel\n",
    "    - Compilados e interpretados\n",
    "    - General y de dominio específico "
   ]
  },
  {
   "cell_type": "markdown",
   "metadata": {},
   "source": [
    "## Alto vs Bajo Nivel"
   ]
  },
  {
   "cell_type": "markdown",
   "metadata": {},
   "source": [
    "### Ejemplo de un lenguaje de programación de bajo nivel (lenguaje ensamblador):"
   ]
  },
  {
   "cell_type": "markdown",
   "metadata": {},
   "source": [
    "<img src=\"https://fotos.subefotos.com/40a32262323f1ce78797d6b073b3f73bo.png\" style = \"width: 450px; height: auto; margin-left:auto;margin-right:auto\"/>"
   ]
  },
  {
   "cell_type": "markdown",
   "metadata": {},
   "source": [
    "En el código anterior sólo se muestra en la pantalla el mensaje \"*Hello, world*\". Podemos ver que es bastante díficil poder entenderlo. "
   ]
  },
  {
   "cell_type": "markdown",
   "metadata": {},
   "source": [
    "### Ejemplo de un lenguaje de programación de alto nivel  (Python):"
   ]
  },
  {
   "cell_type": "code",
   "execution_count": 57,
   "metadata": {},
   "outputs": [
    {
     "name": "stdout",
     "output_type": "stream",
     "text": [
      "Hello, world\n"
     ]
    }
   ],
   "source": [
    "print('Hello, world')"
   ]
  },
  {
   "cell_type": "markdown",
   "metadata": {},
   "source": [
    "Literalmente se muestra el mismo mensaje, pero vemos que sólo se necesitó una línea de código. Los lenguajes de alto nivel fueron diseñados para que su entendimiento sea más fácil."
   ]
  },
  {
   "cell_type": "markdown",
   "metadata": {},
   "source": [
    "___"
   ]
  },
  {
   "cell_type": "markdown",
   "metadata": {},
   "source": [
    "## Compilado vs Interpretado"
   ]
  },
  {
   "cell_type": "markdown",
   "metadata": {},
   "source": [
    "### Ejemplo de lenguaje compilado (C++):"
   ]
  },
  {
   "cell_type": "markdown",
   "metadata": {},
   "source": [
    "<img src=\"https://fotos.subefotos.com/2e99656f5003705a3878c86a4f099995o.png\" style = \"width: 450px; height: auto; margin-left:auto;margin-right:auto\"/>"
   ]
  },
  {
   "cell_type": "markdown",
   "metadata": {},
   "source": [
    "Cuando se programa en C++ para correr el programa se tiene que compilarlo, en donde se creará un archivo ejecutable. Realmente no se puede ejecutar el código, sino el ejecutable."
   ]
  },
  {
   "cell_type": "markdown",
   "metadata": {},
   "source": [
    "### Ejemplo de lenguaje interpretado (R):"
   ]
  },
  {
   "cell_type": "markdown",
   "metadata": {},
   "source": [
    "En R nosotros podemos dar una instrucción al intérprete y lo ejecutará devolviendonos un resultado al instante:"
   ]
  },
  {
   "cell_type": "markdown",
   "metadata": {},
   "source": [
    "<img src=\"https://therbootcamp.github.io/BaselRBootcamp_2018July/_sessions/Programming/image/loop.gif\" style = \"width: 850px; height: auto; margin-left:auto;margin-right:auto\"/>"
   ]
  },
  {
   "cell_type": "markdown",
   "metadata": {},
   "source": [
    "___"
   ]
  },
  {
   "cell_type": "markdown",
   "metadata": {},
   "source": [
    "## General vs Dominio Específico "
   ]
  },
  {
   "cell_type": "markdown",
   "metadata": {},
   "source": [
    "### Ejemplo de lenguaje de dominio específico (Mathematica):"
   ]
  },
  {
   "cell_type": "markdown",
   "metadata": {},
   "source": [
    "Aunque Mathematica está basado en C, C++ y Java, solo sirve en áreas científicas, de ingeniería, de matemática y áreas computacionales. Pero si nosotros quisiéramos crear un servidor web, una aplicación de escritorio con interfaz gráfica o hasta un videojuego definitivamente Mathematica no es una opción"
   ]
  },
  {
   "cell_type": "markdown",
   "metadata": {},
   "source": [
    "<img src=\"https://upload.wikimedia.org/wikipedia/commons/3/3e/Mathematica_logistic_bifurcation.png\" style = \"width: 650px; height: auto; margin-left:auto;margin-right:auto\"/>"
   ]
  },
  {
   "cell_type": "markdown",
   "metadata": {},
   "source": [
    "### Ejemplo de lenguaje de dominio general (Java):"
   ]
  },
  {
   "cell_type": "markdown",
   "metadata": {},
   "source": [
    "El objetivo de este lenguaje es que los programadores sólo tuvieran que escribir el código de un programa una vez, y que éste, pudiese ejecutarse en cualquier dispositivo. \n",
    "\n",
    "Java es uno de los lenguajes más utilizados actualmente gracias al uso que se hace de distintas plataformas."
   ]
  },
  {
   "cell_type": "markdown",
   "metadata": {},
   "source": [
    "<img src=\"https://www.minecraft.net/content/dam/games/minecraft/key-art/redeem-art-minecraft-285x380.jpg\" style = \"width: 300px; height: auto; margin-left:auto;margin-right:auto\"/>"
   ]
  },
  {
   "cell_type": "markdown",
   "metadata": {},
   "source": [
    "Minecraft fue desarrollado en Java."
   ]
  },
  {
   "cell_type": "markdown",
   "metadata": {},
   "source": [
    "# Python"
   ]
  },
  {
   "cell_type": "markdown",
   "metadata": {},
   "source": [
    "Python es un lenguaje de programación de **alto nivel**, **interpretado** y de **dominio general**. Tiene aplicaciones en numerosas áreas, incluyendo programación web, scripting, computación científica e inteligencia artificial. De hecho la página en la que ustedes realizaron su preinscripción fue hecha 100% en Python."
   ]
  },
  {
   "cell_type": "markdown",
   "metadata": {},
   "source": [
    "<img src=\"https://fotos.subefotos.com/2f7edc4ab2516c5e0a6e1513aa60811co.png\" style = \"width: 850px; height: auto; margin-left:auto;margin-right:auto\"/>"
   ]
  },
  {
   "cell_type": "markdown",
   "metadata": {},
   "source": [
    "___"
   ]
  },
  {
   "cell_type": "markdown",
   "metadata": {},
   "source": [
    "# Primeros pasos con Python"
   ]
  },
  {
   "cell_type": "markdown",
   "metadata": {},
   "source": [
    "## Impresión de texto"
   ]
  },
  {
   "cell_type": "markdown",
   "metadata": {},
   "source": [
    "Para comenzar aprenderemos algo fundamental en todo lenguaje de programación: salida de datos por medio de la pantalla.\n",
    "\n",
    "Utilizamos la sentencia **print** y abrimos paréntesis para encerrar lo que se desea imprimir, y si deseamos imprimir texto iniciaremos usando comillas como en el ejemplo que está a continuación:"
   ]
  },
  {
   "cell_type": "code",
   "execution_count": 2,
   "metadata": {},
   "outputs": [
    {
     "name": "stdout",
     "output_type": "stream",
     "text": [
      "Hola mundo\n"
     ]
    }
   ],
   "source": [
    "print('Hola mundo')"
   ]
  },
  {
   "cell_type": "markdown",
   "metadata": {},
   "source": [
    "**Nota para los que ya han programado en C/C++:** No iniciamos el programa como en lenguaje C++, esto se debe a que Python incluye librerías por default, más adelante veremos como se anexan librerías especializadas."
   ]
  },
  {
   "cell_type": "markdown",
   "metadata": {},
   "source": [
    "### Formas de impresión de texto y renglones"
   ]
  },
  {
   "cell_type": "markdown",
   "metadata": {},
   "source": [
    "La impresión de texto también funciona para imprimir varias líneas de texto, o de igual manera se puede imprimir con un **\\n** para indicar el salto de línea, veamos un ejemplo y sus diferencias:"
   ]
  },
  {
   "cell_type": "code",
   "execution_count": 64,
   "metadata": {},
   "outputs": [
    {
     "name": "stdout",
     "output_type": "stream",
     "text": [
      "*Hola ¿Cómo has estado?\n",
      "-Muy bien, gracias por preguntar ¿Y tú?\n",
      "*También, de maravilla.\n"
     ]
    }
   ],
   "source": [
    "print(\"*Hola ¿Cómo has estado?\")\n",
    "print(\"-Muy bien, gracias por preguntar ¿Y tú?\")\n",
    "print(\"*También, de maravilla.\")"
   ]
  },
  {
   "cell_type": "markdown",
   "metadata": {},
   "source": [
    "Vemos que cada **print** se muestra en renglones diferentes. \n",
    "\n",
    "Otra forma de hacerlo es con el caracter **\\n**, el cual representa un salto de línea y se escribe de la siguiente manera:"
   ]
  },
  {
   "cell_type": "code",
   "execution_count": 1,
   "metadata": {
    "scrolled": true
   },
   "outputs": [
    {
     "name": "stdout",
     "output_type": "stream",
     "text": [
      "*Hola ¿Cómo estas? \n",
      "-Muy bien, gracias por preguntar ¿Y tú? \n",
      "*También, de maravilla\n"
     ]
    }
   ],
   "source": [
    "print(\"*Hola ¿Cómo estas? \\n-Muy bien, gracias por preguntar ¿Y tú? \\n*También, de maravilla\")"
   ]
  },
  {
   "cell_type": "markdown",
   "metadata": {},
   "source": [
    "De esta manera ya tenemos dos formas de imprimir y dividir texto por renglones.\n"
   ]
  },
  {
   "cell_type": "markdown",
   "metadata": {},
   "source": [
    "\n",
    "Otra forma de imprimir: Todas las sentencias *print* tienen consigo un *end* (final) que por deafult es el caracter antes visto (*\\n*), pero este se puede modificar para que podamos escribir en la misma línea:"
   ]
  },
  {
   "cell_type": "code",
   "execution_count": 66,
   "metadata": {},
   "outputs": [
    {
     "name": "stdout",
     "output_type": "stream",
     "text": [
      "Hola Mundo\n"
     ]
    }
   ],
   "source": [
    "print('Hola', end = ' ') \n",
    "\n",
    "print('Mundo')"
   ]
  },
  {
   "cell_type": "code",
   "execution_count": 67,
   "metadata": {},
   "outputs": [
    {
     "name": "stdout",
     "output_type": "stream",
     "text": [
      "Hola,Mundo\n"
     ]
    }
   ],
   "source": [
    "print('Hola', end = ',')\n",
    "\n",
    "print('Mundo')"
   ]
  },
  {
   "cell_type": "markdown",
   "metadata": {},
   "source": [
    "## Operaciones básicas"
   ]
  },
  {
   "cell_type": "markdown",
   "metadata": {},
   "source": [
    "Para realizar operaciones en cualquier lenguaje de programación, se necesitan mínimo 3 elementos:\n",
    "    \n",
    "    <literal o dato>    <operador>    <literal o dato>\n",
    "\n",
    "**Ejemplo:**\n",
    "    \n",
    "    - a = 3\n",
    "    \n",
    "    - b = 4 \n",
    "    \n",
    "    - a - b\n",
    "\n",
    "**Ejemplo 1:**\n",
    "\n",
    "    - 3 + 4\n",
    "\n",
    "    - 2 - 3\n",
    "    \n",
    "    - 'Hola' + 'Mundo'\n",
    "    \n",
    "    - 'Hola' + 2 \n",
    "    \n",
    "    - 'Hola' * 3\n",
    "    \n",
    "    - 'Hola' / 1\n",
    "    \n",
    "    - 5 == 5\n",
    "    \n",
    "    - 4 == 3\n",
    "    \n",
    "    - 3 > 2"
   ]
  },
  {
   "cell_type": "markdown",
   "metadata": {},
   "source": [
    "Ahora veremos las operaciones sencillas en Python mostrando su resultado en pantalla: "
   ]
  },
  {
   "cell_type": "code",
   "execution_count": 68,
   "metadata": {
    "scrolled": true
   },
   "outputs": [
    {
     "name": "stdout",
     "output_type": "stream",
     "text": [
      "Operaciones básicas\n",
      "10\n",
      "2214\n",
      "3.0\n",
      "177\n"
     ]
    }
   ],
   "source": [
    "print(\"Operaciones básicas\")    \n",
    "print (5+5)\n",
    "print (18*123)\n",
    "print(9/3)\n",
    "print(186-9)"
   ]
  },
  {
   "cell_type": "markdown",
   "metadata": {},
   "source": [
    "\n",
    "De igual manera, se pueden utilizar paréntesis para agrupar términos."
   ]
  },
  {
   "cell_type": "code",
   "execution_count": 69,
   "metadata": {},
   "outputs": [
    {
     "name": "stdout",
     "output_type": "stream",
     "text": [
      "17.0\n",
      "13.0\n"
     ]
    }
   ],
   "source": [
    "print(2+3*4+6/2)\n",
    "print(((2+3)*4+6)/2)"
   ]
  },
  {
   "cell_type": "markdown",
   "metadata": {},
   "source": [
    "Habrás notado que para que haga la suma, dentro de la instrucción de impresión no deben llevar comillas, ya que si lo haces con comillas la computadora lo leerá como texto y no realizará operación alguna."
   ]
  },
  {
   "cell_type": "code",
   "execution_count": 70,
   "metadata": {},
   "outputs": [
    {
     "name": "stdout",
     "output_type": "stream",
     "text": [
      "\n",
      "Operación con comillas:\n",
      "5+5\n",
      "18*123\n",
      "9/3\n",
      "186-9\n"
     ]
    }
   ],
   "source": [
    "print(\"\\nOperación con comillas:\")\n",
    "print (\"5+5\")\n",
    "print (\"18*123\")\n",
    "print(\"9/3\")\n",
    "print(\"186-9\")"
   ]
  },
  {
   "cell_type": "markdown",
   "metadata": {},
   "source": [
    "#### Actividad 1.1\n",
    "Imprime un texto que diga: \"La suma es: \", y realiza la operación: 3+4-3/3.\n",
    "\n",
    "Todo en impreso en una sola línea."
   ]
  },
  {
   "cell_type": "code",
   "execution_count": null,
   "metadata": {},
   "outputs": [],
   "source": []
  },
  {
   "cell_type": "markdown",
   "metadata": {},
   "source": [
    "Como leíste antes, mínimo se necesitan tres elementos principales para realizar una operación, pero también se pueden hacer varias a la vez."
   ]
  },
  {
   "cell_type": "markdown",
   "metadata": {},
   "source": [
    "#### Actividad 1.2\n",
    "\n",
    "Muestra en pantalla las operaciones planteadas en el **Ejemplo1**. Imprime una por una para que puedas notar cuáles son posibles y qué resultados nos arrojan."
   ]
  },
  {
   "cell_type": "code",
   "execution_count": null,
   "metadata": {},
   "outputs": [],
   "source": []
  },
  {
   "cell_type": "markdown",
   "metadata": {},
   "source": [
    "Pudimos ver que al texto se le puede operar con **+**, a esto se le llama **concatenar**."
   ]
  },
  {
   "cell_type": "code",
   "execution_count": 72,
   "metadata": {},
   "outputs": [
    {
     "name": "stdout",
     "output_type": "stream",
     "text": [
      "186197\n",
      "Parangaricutirimicuaro\n"
     ]
    }
   ],
   "source": [
    "print (\"186\" + \"197\")\n",
    "print (\"Parangari\" + \"cutiri\" + \"micuaro\")"
   ]
  },
  {
   "cell_type": "markdown",
   "metadata": {},
   "source": [
    "Mientras que las operaciones: \n",
    "\n",
    "- 'Hola' + 2 \n",
    "\n",
    "- 'Hola' / 1\n",
    "\n",
    "No fueron posibles de realizar, ya que los **tipos de dato** tienen que ser compatibles con el operador. "
   ]
  },
  {
   "cell_type": "markdown",
   "metadata": {},
   "source": [
    "### Tipos de datos primitivos\n",
    "\n",
    "Definir tipos de datos es esencial en todo lenguaje de programación, ya que nos proporcionarán la primera parte de la estructura con la que trabajaremos. Principalmente se dividen en 3 categorías:\n",
    "\n",
    "#### Caracteres.- Representan todas las letras y simbolos que tenemos en nuestro teclado.\n"
   ]
  },
  {
   "cell_type": "code",
   "execution_count": 73,
   "metadata": {},
   "outputs": [
    {
     "data": {
      "text/plain": [
       "'a'"
      ]
     },
     "execution_count": 73,
     "metadata": {},
     "output_type": "execute_result"
    }
   ],
   "source": [
    "'a'"
   ]
  },
  {
   "cell_type": "code",
   "execution_count": 74,
   "metadata": {},
   "outputs": [
    {
     "data": {
      "text/plain": [
       "'b'"
      ]
     },
     "execution_count": 74,
     "metadata": {},
     "output_type": "execute_result"
    }
   ],
   "source": [
    "'b'"
   ]
  },
  {
   "cell_type": "code",
   "execution_count": 75,
   "metadata": {},
   "outputs": [
    {
     "data": {
      "text/plain": [
       "'\\n'"
      ]
     },
     "execution_count": 75,
     "metadata": {},
     "output_type": "execute_result"
    }
   ],
   "source": [
    "'\\n'"
   ]
  },
  {
   "cell_type": "markdown",
   "metadata": {},
   "source": [
    "#### Numéricos.- Son todos los números reales."
   ]
  },
  {
   "cell_type": "code",
   "execution_count": 76,
   "metadata": {},
   "outputs": [
    {
     "data": {
      "text/plain": [
       "3"
      ]
     },
     "execution_count": 76,
     "metadata": {},
     "output_type": "execute_result"
    }
   ],
   "source": [
    "3"
   ]
  },
  {
   "cell_type": "code",
   "execution_count": 77,
   "metadata": {},
   "outputs": [
    {
     "data": {
      "text/plain": [
       "-2"
      ]
     },
     "execution_count": 77,
     "metadata": {},
     "output_type": "execute_result"
    }
   ],
   "source": [
    "-2"
   ]
  },
  {
   "cell_type": "code",
   "execution_count": 78,
   "metadata": {},
   "outputs": [
    {
     "data": {
      "text/plain": [
       "2.3"
      ]
     },
     "execution_count": 78,
     "metadata": {},
     "output_type": "execute_result"
    }
   ],
   "source": [
    "2.3"
   ]
  },
  {
   "cell_type": "markdown",
   "metadata": {},
   "source": [
    "#### Booleanos.- Toman valores de verdadero o falso como en lógica, dependiendo del lenguaje pueden ser representados como:\n",
    "  "
   ]
  },
  {
   "cell_type": "code",
   "execution_count": 79,
   "metadata": {},
   "outputs": [
    {
     "data": {
      "text/plain": [
       "True"
      ]
     },
     "execution_count": 79,
     "metadata": {},
     "output_type": "execute_result"
    }
   ],
   "source": [
    "True"
   ]
  },
  {
   "cell_type": "code",
   "execution_count": 80,
   "metadata": {},
   "outputs": [
    {
     "data": {
      "text/plain": [
       "False"
      ]
     },
     "execution_count": 80,
     "metadata": {},
     "output_type": "execute_result"
    }
   ],
   "source": [
    "False"
   ]
  },
  {
   "cell_type": "code",
   "execution_count": 81,
   "metadata": {},
   "outputs": [
    {
     "data": {
      "text/plain": [
       "1"
      ]
     },
     "execution_count": 81,
     "metadata": {},
     "output_type": "execute_result"
    }
   ],
   "source": [
    "1"
   ]
  },
  {
   "cell_type": "code",
   "execution_count": 82,
   "metadata": {},
   "outputs": [
    {
     "data": {
      "text/plain": [
       "0"
      ]
     },
     "execution_count": 82,
     "metadata": {},
     "output_type": "execute_result"
    }
   ],
   "source": [
    "0"
   ]
  },
  {
   "cell_type": "markdown",
   "metadata": {},
   "source": [
    "También existen tipos de datos compuestos que se componen de los anteriores. Más adelante los verémos a profundidad, pero tú ya has trabajado con uno: Cadenas de texto, que se componen de dos o más caracteres ej.: 'Hola mundo'."
   ]
  },
  {
   "cell_type": "markdown",
   "metadata": {},
   "source": [
    "## Tipos de operadores\n",
    "\n",
    "Así como existen tipos de datos, existen tipos de operadores que nos darán la segunda parte de la estructura con la que trabajaremos.\n",
    "\n"
   ]
  },
  {
   "cell_type": "markdown",
   "metadata": {},
   "source": [
    "#### Operadores aritméticos.- Estos operadores nos regresarán un resultado, el cual se podrá mostrar en pantalla o asignar a una literal"
   ]
  },
  {
   "cell_type": "code",
   "execution_count": 23,
   "metadata": {},
   "outputs": [
    {
     "data": {
      "text/plain": [
       "0.75"
      ]
     },
     "execution_count": 23,
     "metadata": {},
     "output_type": "execute_result"
    }
   ],
   "source": [
    "3 / 4"
   ]
  },
  {
   "cell_type": "markdown",
   "metadata": {},
   "source": [
    "  \n",
    "#### Operadores de asignación.- Vamos a poder guardar datos o resultados de operaciones aritméticas en una literal. Obs.: No nos regresan ningún valor, por lo que no podemos hacer **print(a = 3)**.\n"
   ]
  },
  {
   "cell_type": "code",
   "execution_count": 24,
   "metadata": {},
   "outputs": [],
   "source": [
    "a = 3\n",
    "b = 2\n",
    "c = a + 2\n",
    "d = a + b         "
   ]
  },
  {
   "cell_type": "markdown",
   "metadata": {},
   "source": [
    "#### Operadores lógicos.- Nos regresarán un valor de verdadero o falso, dependiendo si la condición se cumple \n",
    "\n"
   ]
  },
  {
   "cell_type": "code",
   "execution_count": 85,
   "metadata": {},
   "outputs": [
    {
     "data": {
      "text/plain": [
       "False"
      ]
     },
     "execution_count": 85,
     "metadata": {},
     "output_type": "execute_result"
    }
   ],
   "source": [
    "a == 2 # Nos devuelve False porque anteriormente le asignamos 3 a la literal, y 3 no es igual a 2"
   ]
  },
  {
   "cell_type": "code",
   "execution_count": 86,
   "metadata": {},
   "outputs": [
    {
     "data": {
      "text/plain": [
       "True"
      ]
     },
     "execution_count": 86,
     "metadata": {},
     "output_type": "execute_result"
    }
   ],
   "source": [
    "a == 3"
   ]
  },
  {
   "cell_type": "code",
   "execution_count": 87,
   "metadata": {},
   "outputs": [
    {
     "data": {
      "text/plain": [
       "True"
      ]
     },
     "execution_count": 87,
     "metadata": {},
     "output_type": "execute_result"
    }
   ],
   "source": [
    "3 != 2"
   ]
  },
  {
   "cell_type": "code",
   "execution_count": 88,
   "metadata": {},
   "outputs": [
    {
     "data": {
      "text/plain": [
       "True"
      ]
     },
     "execution_count": 88,
     "metadata": {},
     "output_type": "execute_result"
    }
   ],
   "source": [
    "3 > 2"
   ]
  },
  {
   "cell_type": "code",
   "execution_count": 89,
   "metadata": {},
   "outputs": [
    {
     "data": {
      "text/plain": [
       "False"
      ]
     },
     "execution_count": 89,
     "metadata": {},
     "output_type": "execute_result"
    }
   ],
   "source": [
    "3 >3"
   ]
  },
  {
   "cell_type": "code",
   "execution_count": 90,
   "metadata": {},
   "outputs": [
    {
     "data": {
      "text/plain": [
       "True"
      ]
     },
     "execution_count": 90,
     "metadata": {},
     "output_type": "execute_result"
    }
   ],
   "source": [
    "3 >= 3"
   ]
  },
  {
   "cell_type": "markdown",
   "metadata": {},
   "source": [
    "## Otras operaciones aritméticas"
   ]
  },
  {
   "cell_type": "markdown",
   "metadata": {},
   "source": [
    "Además de la suma, la resta, la multiplicación y la división, Python también soporta la exponenciación, que es la elevación de un número a la potencia de otro, esta operación se realiza usando dos asteriscos, también se puede usar la potenciacion para sacar raíces."
   ]
  },
  {
   "cell_type": "code",
   "execution_count": 91,
   "metadata": {},
   "outputs": [
    {
     "name": "stdout",
     "output_type": "stream",
     "text": [
      "32\n",
      "3.0\n"
     ]
    }
   ],
   "source": [
    "print(2**5)\n",
    "print(9**(1/2))"
   ]
  },
  {
   "cell_type": "markdown",
   "metadata": {},
   "source": [
    "#### Actividad 2.1\n",
    "Imprime la potencia 3 de 2. imprime la raiz cuadrada de ese resultado."
   ]
  },
  {
   "cell_type": "code",
   "execution_count": 34,
   "metadata": {},
   "outputs": [
    {
     "name": "stdout",
     "output_type": "stream",
     "text": [
      "2.8284271247461903\n"
     ]
    }
   ],
   "source": [
    "print(2**3**(1/2))"
   ]
  },
  {
   "cell_type": "markdown",
   "metadata": {},
   "source": [
    "Puedes encadenar las exponenciales juntas y obtendrás un número elevado a la potencia de la potencia de otro, en español, digamos cinco elevado al cuadrado de 3.\n",
    "\n"
   ]
  },
  {
   "cell_type": "code",
   "execution_count": 93,
   "metadata": {},
   "outputs": [
    {
     "name": "stdout",
     "output_type": "stream",
     "text": [
      "1953125\n",
      "729.0\n"
     ]
    }
   ],
   "source": [
    "print(5**3**2)\n",
    "print(9**9**(1/2))"
   ]
  },
  {
   "cell_type": "markdown",
   "metadata": {},
   "source": [
    "Esto se puede representar como:\n",
    "$$ 5^{3^2} $$\n",
    "$$ 9^{9^{\\frac{1}{2}}} $$"
   ]
  },
  {
   "cell_type": "markdown",
   "metadata": {},
   "source": [
    "#### Actividad 2.2\n",
    "Imprime 4 elevado a la potencia de 4 elevado a la potencia de 2.\n",
    "\n",
    "Imprime 2 elevado a la raiz cuadrada de 9"
   ]
  },
  {
   "cell_type": "code",
   "execution_count": null,
   "metadata": {},
   "outputs": [],
   "source": []
  },
  {
   "cell_type": "markdown",
   "metadata": {},
   "source": [
    "Otra operación es la **división entera**, la principal característica de esta división es que se utiliza principalmente para saber el cociente de una división, pero de forma entera, así si tenemos 9/2, el resultado será 4."
   ]
  },
  {
   "cell_type": "code",
   "execution_count": 95,
   "metadata": {},
   "outputs": [
    {
     "name": "stdout",
     "output_type": "stream",
     "text": [
      "4\n",
      "19\n"
     ]
    }
   ],
   "source": [
    "print(9//2)\n",
    "print(79//4)"
   ]
  },
  {
   "cell_type": "markdown",
   "metadata": {},
   "source": [
    "#### Actividad 2.3\n",
    "\n",
    "Imprime 5 división entera de 2.\n",
    "\n",
    "Imprime 8 división entera de 5."
   ]
  },
  {
   "cell_type": "code",
   "execution_count": null,
   "metadata": {},
   "outputs": [],
   "source": []
  },
  {
   "cell_type": "markdown",
   "metadata": {},
   "source": [
    "El operador **módulo** se lleva a cabo con el símbolo de porcentaje y se utiliza para obtener el resto de una división."
   ]
  },
  {
   "cell_type": "code",
   "execution_count": 41,
   "metadata": {},
   "outputs": [
    {
     "data": {
      "text/plain": [
       "True"
      ]
     },
     "execution_count": 41,
     "metadata": {},
     "output_type": "execute_result"
    }
   ],
   "source": [
    "10%2 == 0"
   ]
  },
  {
   "cell_type": "code",
   "execution_count": 97,
   "metadata": {
    "scrolled": true
   },
   "outputs": [
    {
     "name": "stdout",
     "output_type": "stream",
     "text": [
      "2\n",
      "0.25\n"
     ]
    }
   ],
   "source": [
    "print(20%6)\n",
    "print(1.25%0.5)"
   ]
  },
  {
   "cell_type": "markdown",
   "metadata": {},
   "source": [
    "#### Actividad 2.4\n",
    "\n",
    "Imprime 7 módulo 5.\n",
    "\n",
    "Imprime 16 módulo 9."
   ]
  },
  {
   "cell_type": "code",
   "execution_count": null,
   "metadata": {},
   "outputs": [],
   "source": []
  },
  {
   "cell_type": "markdown",
   "metadata": {},
   "source": [
    "También estas operaciones se pueden encadenar entre sí, para así usar todas en un mismo sitio o instrucción."
   ]
  },
  {
   "cell_type": "code",
   "execution_count": 99,
   "metadata": {},
   "outputs": [
    {
     "name": "stdout",
     "output_type": "stream",
     "text": [
      "55.0\n"
     ]
    }
   ],
   "source": [
    "print((3**9**(1/2))*(7//3)+5%2)"
   ]
  },
  {
   "cell_type": "markdown",
   "metadata": {},
   "source": [
    "#### Actividad 2.5\n",
    "\n",
    "\n",
    "Imprime la raiz cuadrada de 9 elevada a la potencia 3 módulo 4 y multiplica el resultado por la división entera de 35 entre 8."
   ]
  },
  {
   "cell_type": "code",
   "execution_count": null,
   "metadata": {},
   "outputs": [],
   "source": []
  },
  {
   "cell_type": "markdown",
   "metadata": {},
   "source": [
    "## Literales (variables)"
   ]
  },
  {
   "cell_type": "markdown",
   "metadata": {},
   "source": [
    "Una variable te permite representar un dato con un nombre, al cual nos podremos referir durante el programa. Se declaran con el operador de asignación *=*  seguido del nombre de la variable. También puedes hacer operaciones con las variables."
   ]
  },
  {
   "cell_type": "code",
   "execution_count": 42,
   "metadata": {},
   "outputs": [
    {
     "name": "stdout",
     "output_type": "stream",
     "text": [
      "Declaración e impresión de variables.\n",
      "0\n",
      "9\n",
      "33\n",
      "Moreno\n",
      "MorenoMorenoMorenoMorenoMorenoMoreno\n"
     ]
    }
   ],
   "source": [
    "print(\"Declaración e impresión de variables.\")\n",
    "cero=0\n",
    "Alumnos=15\n",
    "Profesor=\"Moreno\"\n",
    "\n",
    "print (cero)\n",
    "print (cero+9)\n",
    "print (Alumnos+18)\n",
    "print (Profesor)\n",
    "print (Profesor*6)\n"
   ]
  },
  {
   "cell_type": "markdown",
   "metadata": {},
   "source": [
    "#### Actividad 2.6\n",
    "Define una variable que contenga los datos: **\"abra\"**.\n",
    "\n",
    "Define otra variable que contenga los datos **\"cad\"**.\n",
    "\n",
    "Define una tercer variable que contenga la primer variable concatenada a los lados de la segunda variable e imprime cada variable."
   ]
  },
  {
   "cell_type": "code",
   "execution_count": null,
   "metadata": {},
   "outputs": [],
   "source": []
  },
  {
   "cell_type": "markdown",
   "metadata": {},
   "source": [
    "Las variables se pueden reasignar tantas veces como se desee. Estas no tienen tipo en específico, así puedes asignar una cadena de texto a una variable y luego un número entero a la misma variable:"
   ]
  },
  {
   "cell_type": "markdown",
   "metadata": {},
   "source": [
    "#### Actividad 2.7\n",
    "\n",
    "Crea una variable que contenga la cadena \"spam\" e imprimela multiplicada 6 veces, reasigna la variable para contener la cadena \"El spam esta prohibido aquí\" e imprimela, por último reasigna la misma variable para contener la cadena \"¡No me importa!\" e imprime."
   ]
  },
  {
   "cell_type": "code",
   "execution_count": null,
   "metadata": {},
   "outputs": [],
   "source": []
  },
  {
   "cell_type": "markdown",
   "metadata": {},
   "source": [
    "_____"
   ]
  },
  {
   "cell_type": "markdown",
   "metadata": {},
   "source": [
    "**Las variables no pueden contener espacios ni iniciar con números** \n",
    "\n",
    "Puedes usar la declaración *del* para eliminar una variable, esto elimina la referencia del nombre al valor; intentar usar la variable después de hacer eso produce un error, las variables eliminadas se pueden reasignar más tarde de manera normal:"
   ]
  },
  {
   "cell_type": "code",
   "execution_count": 105,
   "metadata": {},
   "outputs": [
    {
     "name": "stdout",
     "output_type": "stream",
     "text": [
      "\n",
      "Eliminación del contenido de las variables\n",
      "24\n"
     ]
    }
   ],
   "source": [
    "print (\"\\nEliminación del contenido de las variables\")\n",
    "variable1=3\n",
    "variable2=3\n",
    "del variable2 \n",
    "variable2=8\n",
    "print (variable2*variable1)"
   ]
  },
  {
   "cell_type": "markdown",
   "metadata": {},
   "source": [
    "#### Actividad 3\n",
    "Encuentra los ceros reales de la siguiente función en Python utilizando la fórmula general e igualando las literales **a,b,c** a su coeficiente correspondiente:\n",
    "\n",
    "$ x^2 + 3x + 2 $\n",
    "\n",
    "Fórmula general: $ \\frac{-b \\pm \\sqrt{b^2 - 4ac}}{2a} $"
   ]
  },
  {
   "cell_type": "code",
   "execution_count": null,
   "metadata": {},
   "outputs": [],
   "source": []
  },
  {
   "cell_type": "markdown",
   "metadata": {},
   "source": [
    "Podrás comprobar tus respuestas viendo las siguientes celdas.\n",
    "\n",
    "(A lo largo del curso veremos esto a profundidad)"
   ]
  },
  {
   "cell_type": "code",
   "execution_count": 107,
   "metadata": {},
   "outputs": [],
   "source": [
    "import numpy as np\n",
    "import matplotlib.pyplot as plt"
   ]
  },
  {
   "cell_type": "code",
   "execution_count": null,
   "metadata": {},
   "outputs": [],
   "source": []
  },
  {
   "cell_type": "code",
   "execution_count": 108,
   "metadata": {},
   "outputs": [
    {
     "data": {
      "image/png": "[encoded data removed]",
      "text/plain": [
       "<Figure size 432x288 with 1 Axes>"
      ]
     },
     "metadata": {
      "needs_background": "light"
     },
     "output_type": "display_data"
    }
   ],
   "source": [
    "x = np.array(range(-300,30,1))\n",
    "x = x/100\n",
    "y = x**2 + 3*x + 2\n",
    "zeros = x*0\n",
    "plt.plot(x,y, label = '$x^2 + 3x + 2$' )\n",
    "plt.plot(x,zeros, color = 'black', label = 'x, y axis')\n",
    "plt.plot(zeros,x*-1, color = 'black')\n",
    "plt.legend()\n",
    "plt.show()"
   ]
  }
 ],
 "metadata": {
  "kernelspec": {
   "display_name": "Python 3",
   "language": "python",
   "name": "python3"
  },
  "language_info": {
   "codemirror_mode": {
    "name": "ipython",
    "version": 3
   },
   "file_extension": ".py",
   "mimetype": "text/x-python",
   "name": "python",
   "nbconvert_exporter": "python",
   "pygments_lexer": "ipython3",
   "version": "3.8.3"
  }
 },
 "nbformat": 4,
 "nbformat_minor": 4
}
