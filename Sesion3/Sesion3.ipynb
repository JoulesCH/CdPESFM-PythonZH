{
 "cells": [
  {
   "cell_type": "markdown",
   "metadata": {},
   "source": [
    "<img src=\"https://fotos.subefotos.com/62f2c206a343c5fead3e5e8eb7d6e91co.png\" style = \"width: 150px; height: auto; margin-left:auto;margin-right:auto\"/>\n",
    "<img src=\"https://fotos.subefotos.com/2c708169e1d6eb3099d2ce45584dc443o.png\" style = \"width: 750px; height: auto; margin-left: auto; margin-right: auto;margin-top:0 \"/>\n"
   ]
  },
  {
   "cell_type": "markdown",
   "metadata": {},
   "source": [
    "# Sesión 3\n",
    "### Entradas de datos"
   ]
  },
  {
   "cell_type": "markdown",
   "metadata": {},
   "source": [
    "Para obtener información del usuario Python usa la función input, esta solicita al usuario una entrada de teclado, la cual almacena y guarda como texto automaticamente. La declaración input va seguida de paréntesis y un texto alternativo que le dara la instrucción al usuario acerca de que es lo que debe escribir."
   ]
  },
  {
   "cell_type": "code",
   "execution_count": 6,
   "metadata": {},
   "outputs": [
    {
     "name": "stdin",
     "output_type": "stream",
     "text": [
      " 10\n"
     ]
    },
    {
     "name": "stdout",
     "output_type": "stream",
     "text": [
      "10\n"
     ]
    }
   ],
   "source": [
    "x = input()\n",
    "print(x)"
   ]
  },
  {
   "cell_type": "markdown",
   "metadata": {},
   "source": [
    "Normalmente le agregamos una oración para indicarle al usuario que necesitamos que introduzca, podemos hacer esto:"
   ]
  },
  {
   "cell_type": "code",
   "execution_count": 7,
   "metadata": {},
   "outputs": [
    {
     "name": "stdout",
     "output_type": "stream",
     "text": [
      "Ingresa una palabra:\n"
     ]
    },
    {
     "name": "stdin",
     "output_type": "stream",
     "text": [
      " Biseccion\n"
     ]
    },
    {
     "name": "stdout",
     "output_type": "stream",
     "text": [
      "Biseccion\n"
     ]
    }
   ],
   "source": [
    "print('Ingresa una palabra:')\n",
    "x = input()\n",
    "print(x)"
   ]
  },
  {
   "cell_type": "markdown",
   "metadata": {},
   "source": [
    "Esa cadena de texto la podemos meter como parámetro en la función **input()** de esta manera:"
   ]
  },
  {
   "cell_type": "code",
   "execution_count": 3,
   "metadata": {},
   "outputs": [
    {
     "name": "stdin",
     "output_type": "stream",
     "text": [
      "Ingresa una palabra:  Tranquility\n"
     ]
    },
    {
     "name": "stdout",
     "output_type": "stream",
     "text": [
      "Tranquility\n"
     ]
    }
   ],
   "source": [
    "x=input(\"Ingresa una palabra: \") \n",
    "print (x)"
   ]
  },
  {
   "cell_type": "markdown",
   "metadata": {},
   "source": [
    "Nosotros podemos ocupar la función input en cualquier lado, veamos un ejemplo:"
   ]
  },
  {
   "cell_type": "code",
   "execution_count": 10,
   "metadata": {},
   "outputs": [
    {
     "name": "stdin",
     "output_type": "stream",
     "text": [
      "Ingresa tu nombre:  Julio\n"
     ]
    },
    {
     "name": "stdout",
     "output_type": "stream",
     "text": [
      "Hola Julio\n"
     ]
    }
   ],
   "source": [
    "print ('Hola ' + input(\"Ingresa tu nombre: \"))"
   ]
  },
  {
   "cell_type": "markdown",
   "metadata": {},
   "source": [
    "Vemos que primero ejecuta la función **input()** esperando una entrada y después imprime lo que le indicamos concatenando la entrada de datos."
   ]
  },
  {
   "cell_type": "markdown",
   "metadata": {},
   "source": [
    "#### Actividad 1\n",
    "Crea un programa que pida a un usuario su nombre y año de nacimiento, calcula su edad e imprime los datos con un salto de línea entre cada dato y especificando que es cada uno de esos datos.\n",
    "\n",
    "Ejemplo: \n",
    "\n",
    "\\>> Ingresa tu nombre: Einstein\n",
    "\n",
    "\\>> Ingresa tu año de nacimiento: 1990\n",
    "\n",
    "\\>> Tu nombre es Einstein, naciste en 1990 y tienes 30 años\n"
   ]
  },
  {
   "cell_type": "code",
   "execution_count": null,
   "metadata": {},
   "outputs": [],
   "source": []
  },
  {
   "cell_type": "markdown",
   "metadata": {},
   "source": [
    "Algo a destacar es que el tipo de dato que regresa **input()** siempre es texto. Entonces si nosotros queremos obtener datos numéricos, tenemos que transformar la entrada  a ese tipo de dato\n"
   ]
  },
  {
   "cell_type": "code",
   "execution_count": 5,
   "metadata": {},
   "outputs": [
    {
     "name": "stdin",
     "output_type": "stream",
     "text": [
      "Ingresa un número:  10\n"
     ]
    },
    {
     "ename": "TypeError",
     "evalue": "unsupported operand type(s) for +: 'int' and 'str'",
     "output_type": "error",
     "traceback": [
      "\u001b[1;31m---------------------------------------------------------------------------\u001b[0m",
      "\u001b[1;31mTypeError\u001b[0m                                 Traceback (most recent call last)",
      "\u001b[1;32m<ipython-input-5-e8f6da664aff>\u001b[0m in \u001b[0;36m<module>\u001b[1;34m\u001b[0m\n\u001b[0;32m      1\u001b[0m \u001b[0ma\u001b[0m \u001b[1;33m=\u001b[0m \u001b[0minput\u001b[0m\u001b[1;33m(\u001b[0m\u001b[1;34m'Ingresa un número: '\u001b[0m\u001b[1;33m)\u001b[0m\u001b[1;33m\u001b[0m\u001b[1;33m\u001b[0m\u001b[0m\n\u001b[1;32m----> 2\u001b[1;33m \u001b[0mprint\u001b[0m\u001b[1;33m(\u001b[0m\u001b[1;36m10\u001b[0m\u001b[1;33m+\u001b[0m\u001b[0ma\u001b[0m\u001b[1;33m)\u001b[0m\u001b[1;33m\u001b[0m\u001b[1;33m\u001b[0m\u001b[0m\n\u001b[0m",
      "\u001b[1;31mTypeError\u001b[0m: unsupported operand type(s) for +: 'int' and 'str'"
     ]
    }
   ],
   "source": [
    "a = input('Ingresa un número: ')\n",
    "print(10 + a)"
   ]
  },
  {
   "cell_type": "markdown",
   "metadata": {},
   "source": [
    "Veremos el caso en el que **a** vale un número conteniendo en una cadena de texto y despues la convertiremos a dato numérico (particularmente a entero con **int()**)"
   ]
  },
  {
   "cell_type": "code",
   "execution_count": 12,
   "metadata": {},
   "outputs": [
    {
     "name": "stdout",
     "output_type": "stream",
     "text": [
      "192\n"
     ]
    }
   ],
   "source": [
    "a = '182'\n",
    "b = int(a)\n",
    "\n",
    "print(10+b)"
   ]
  },
  {
   "cell_type": "markdown",
   "metadata": {},
   "source": [
    "Si nosotros tenemos una cadena de texto que representa un número decimal ocupamos **float()**, de lo contrario nos marcará un error al tratar de convertirlo a número entero"
   ]
  },
  {
   "cell_type": "code",
   "execution_count": 15,
   "metadata": {},
   "outputs": [
    {
     "name": "stdout",
     "output_type": "stream",
     "text": [
      "13.5\n"
     ]
    }
   ],
   "source": [
    "a = '12.5'\n",
    "b = float(a)\n",
    "\n",
    "print(1+b)"
   ]
  },
  {
   "cell_type": "markdown",
   "metadata": {},
   "source": [
    "Podemos hacer lo anterior en una sola línea"
   ]
  },
  {
   "cell_type": "code",
   "execution_count": 16,
   "metadata": {},
   "outputs": [
    {
     "name": "stdout",
     "output_type": "stream",
     "text": [
      "13\n"
     ]
    }
   ],
   "source": [
    "a = int('12')\n",
    "print(1+a)"
   ]
  },
  {
   "cell_type": "markdown",
   "metadata": {},
   "source": [
    "Teniendo la conversión de datos claro, podemos transformar nuestro **input()** a tipo numérico:"
   ]
  },
  {
   "cell_type": "code",
   "execution_count": 17,
   "metadata": {},
   "outputs": [
    {
     "name": "stdin",
     "output_type": "stream",
     "text": [
      "Ingresa un número:  20\n"
     ]
    },
    {
     "name": "stdout",
     "output_type": "stream",
     "text": [
      "30.0\n"
     ]
    }
   ],
   "source": [
    "a = input('Ingresa un número: ')\n",
    "b = float(a)\n",
    "print(10+b)"
   ]
  },
  {
   "cell_type": "markdown",
   "metadata": {},
   "source": [
    "Es lo mismo a:"
   ]
  },
  {
   "cell_type": "code",
   "execution_count": 18,
   "metadata": {},
   "outputs": [
    {
     "name": "stdin",
     "output_type": "stream",
     "text": [
      "Ingresa un número:  20\n"
     ]
    },
    {
     "name": "stdout",
     "output_type": "stream",
     "text": [
      "30.0\n"
     ]
    }
   ],
   "source": [
    "a = float(input('Ingresa un número: '))\n",
    "print(10+a)"
   ]
  },
  {
   "cell_type": "markdown",
   "metadata": {},
   "source": [
    "## Veremos un respaso de estas dos sesiones:"
   ]
  },
  {
   "cell_type": "markdown",
   "metadata": {},
   "source": [
    "### Impresión:"
   ]
  },
  {
   "cell_type": "code",
   "execution_count": 3,
   "metadata": {},
   "outputs": [
    {
     "name": "stdout",
     "output_type": "stream",
     "text": [
      "Hola mundo\n",
      "Esta es una línea \n",
      "y esta es otra\n",
      "Todo esto está escrito en una sola línea\n",
      "\n",
      "La suma de 938445 + 34123344 es igual a 35061789\n"
     ]
    }
   ],
   "source": [
    "print('Hola mundo')\n",
    "print('Esta es una línea \\ny esta es otra')\n",
    "print('Todo esto está escrito ', end= '')\n",
    "print('en una sola línea')\n",
    "\n",
    "print('\\nLa suma de 938445 + 34123344 es igual a ', end = '')\n",
    "print(938445 + 34123344)"
   ]
  },
  {
   "cell_type": "markdown",
   "metadata": {},
   "source": [
    "### Operaciones"
   ]
  },
  {
   "cell_type": "code",
   "execution_count": 32,
   "metadata": {},
   "outputs": [
    {
     "name": "stdout",
     "output_type": "stream",
     "text": [
      "8.5\n",
      "9\n",
      "3.0\n",
      "Esto es una concatenación\n",
      "Hola Hola Hola \n",
      "True\n",
      "True\n",
      "True\n",
      "True\n",
      "False\n"
     ]
    }
   ],
   "source": [
    "#Aritméticas\n",
    "print( 1 + 2 -( 2 + 3/2 )+ 3*3 )\n",
    "print(3**2)\n",
    "print(9**(1/2))\n",
    "print('Esto es ' + 'una concatenación')\n",
    "print( 'Hola ' * 3 )\n",
    "\n",
    "#De asignación\n",
    "a = 3\n",
    "b = 2\n",
    "c = a + b\n",
    "\n",
    "#Lógicas\n",
    "print((1 == 1))\n",
    "print(2 != 1)\n",
    "print(4 > 3)\n",
    "print(4 >= 4)\n",
    "print(3 <= 2)"
   ]
  },
  {
   "cell_type": "markdown",
   "metadata": {},
   "source": [
    "### Variables"
   ]
  },
  {
   "cell_type": "code",
   "execution_count": 11,
   "metadata": {},
   "outputs": [
    {
     "name": "stdout",
     "output_type": "stream",
     "text": [
      "a = 2 b = 4 c = 8.444444444444445\n",
      "a = 2 b = 4 c = 8.444444444444445\n",
      "a = 2 b = 4 c = 8.444444444444445\n"
     ]
    }
   ],
   "source": [
    "a = 2\n",
    "b = 4\n",
    "c = (a/3)**2 + b*2\n",
    "\n",
    "print('a =', a, 'b =', b, 'c =',c )\n",
    "\n",
    "print(f'a = {a} b = {b} c = {c}')\n",
    "\n",
    "print('a = {} b = {} c = {}'.format(a,b,c))"
   ]
  },
  {
   "cell_type": "markdown",
   "metadata": {},
   "source": [
    "### Entrada de datos"
   ]
  },
  {
   "cell_type": "code",
   "execution_count": 36,
   "metadata": {},
   "outputs": [
    {
     "name": "stdin",
     "output_type": "stream",
     "text": [
      "Ingresa tu nombre:  Julio\n",
      "Ingresa un número:  2\n",
      "Ingresa otro número:  6\n"
     ]
    },
    {
     "name": "stdout",
     "output_type": "stream",
     "text": [
      "El resultado es:  4.0\n"
     ]
    }
   ],
   "source": [
    "a = input('Ingresa tu nombre: ')\n",
    "b = float(input('Ingresa un número: '))\n",
    "c = float(input('Ingresa otro número: '))\n",
    "\n",
    "resultado = b + c/3\n",
    "print('El resultado es: ', resultado)"
   ]
  },
  {
   "cell_type": "markdown",
   "metadata": {},
   "source": [
    "#### Ahora ya dominas lo fundamental de los lenguajes de programación: Entrada y salida de datos por teclado y pantalla respectivamente. ¡Felicidades!"
   ]
  },
  {
   "cell_type": "markdown",
   "metadata": {},
   "source": [
    "**Vamos a realizar un programa con lo que sabemos hasta ahora**\n",
    "Vamos a realizar un programa con lo que sabemos hasta ahora:\n",
    "\n",
    "Hacer que un usuario te ingrese su nombre completo, su edad, su telefono de celular, telefono de casa, y realizar las siguientes operaciones e instrucciones:\n",
    "\n",
    "    a) Sumar 12 a su edad, multiplicarla por 10, y hacer division entera por 2.\n",
    " \n",
    "    b) concatenar su edad y sus numeros telefonicos.\n",
    " \n",
    "    c) usar operadores de asignacion para sumar 15 a su telefono celular.\n",
    " \n",
    "    d) concatenar 16 a su número de casa.\n",
    " \n",
    "    e) imprimir todos los datos."
   ]
  },
  {
   "cell_type": "markdown",
   "metadata": {},
   "source": [
    "$\n",
    "$"
   ]
  },
  {
   "cell_type": "code",
   "execution_count": null,
   "metadata": {},
   "outputs": [],
   "source": []
  }
 ],
 "metadata": {
  "kernelspec": {
   "display_name": "Python 3",
   "language": "python",
   "name": "python3"
  },
  "language_info": {
   "codemirror_mode": {
    "name": "ipython",
    "version": 3
   },
   "file_extension": ".py",
   "mimetype": "text/x-python",
   "name": "python",
   "nbconvert_exporter": "python",
   "pygments_lexer": "ipython3",
   "version": "3.8.3"
  }
 },
 "nbformat": 4,
 "nbformat_minor": 4
}
